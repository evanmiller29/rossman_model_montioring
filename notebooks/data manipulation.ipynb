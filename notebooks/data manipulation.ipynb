{
 "cells": [
  {
   "cell_type": "markdown",
   "metadata": {},
   "source": [
    "## What I'm aiming to do\n",
    "\n",
    "- Merge the Store/training data together\n",
    "- Understand the time structure of the data\n",
    "- Give about 50% of the times to the training of the model and then leave the rest for real life situations\n",
    "\n",
    "## TODO\n",
    "\n",
    "- Models changing vs new data being included. KS test?\n",
    "- Time series splitter?\n",
    "    + So I could build three time based train/test splits\n",
    "    + Need to order the data by date to use this functionality.\n",
    "- What features can you use?\n",
    "    + How dodgy time series features can be problematic\n",
    "- Model UAT? Traffic light"
   ]
  },
  {
   "cell_type": "code",
   "execution_count": 1,
   "metadata": {},
   "outputs": [
    {
     "name": "stderr",
     "output_type": "stream",
     "text": [
      "C:\\Users\\evanm\\Anaconda3\\envs\\rm_models\\lib\\site-packages\\sklearn\\externals\\joblib\\__init__.py:15: DeprecationWarning: sklearn.externals.joblib is deprecated in 0.21 and will be removed in 0.23. Please import this functionality directly from joblib, which can be installed with: pip install joblib. If this warning is raised when loading pickled models, you may need to re-serialize those models with scikit-learn 0.21+.\n",
      "  warnings.warn(msg, category=DeprecationWarning)\n"
     ]
    }
   ],
   "source": [
    "%matplotlib inline\n",
    "\n",
    "import pandas as pd\n",
    "import numpy as np\n",
    "import os\n",
    "import seaborn as sns\n",
    "import matplotlib.pyplot as plt\n",
    "\n",
    "from sklearn.experimental import enable_hist_gradient_boosting\n",
    "from sklearn.model_selection import TimeSeriesSplit, train_test_split\n",
    "from sklearn.ensemble import HistGradientBoostingRegressor\n",
    "from sklearn.compose import ColumnTransformer\n",
    "from sklearn.pipeline import Pipeline\n",
    "from sklearn.impute import SimpleImputer\n",
    "from sklearn.preprocessing import KBinsDiscretizer, OneHotEncoder\n",
    "from sklearn.feature_selection import SelectKBest\n",
    "from sklearn.metrics import r2_score, mean_squared_error, mean_absolute_error, max_error\n",
    "from sklearn.externals import joblib\n",
    "\n",
    "from datetime import datetime"
   ]
  },
  {
   "cell_type": "code",
   "execution_count": 2,
   "metadata": {},
   "outputs": [
    {
     "name": "stderr",
     "output_type": "stream",
     "text": [
      "C:\\Users\\evanm\\Anaconda3\\envs\\rm_models\\lib\\site-packages\\IPython\\core\\interactiveshell.py:3058: DtypeWarning: Columns (7) have mixed types. Specify dtype option on import or set low_memory=False.\n",
      "  interactivity=interactivity, compiler=compiler, result=result)\n"
     ]
    }
   ],
   "source": [
    "store = pd.read_csv('../data/store.csv')\n",
    "train = pd.read_csv('../data/train.csv')"
   ]
  },
  {
   "cell_type": "code",
   "execution_count": 3,
   "metadata": {},
   "outputs": [
    {
     "data": {
      "text/html": [
       "<div>\n",
       "<style scoped>\n",
       "    .dataframe tbody tr th:only-of-type {\n",
       "        vertical-align: middle;\n",
       "    }\n",
       "\n",
       "    .dataframe tbody tr th {\n",
       "        vertical-align: top;\n",
       "    }\n",
       "\n",
       "    .dataframe thead th {\n",
       "        text-align: right;\n",
       "    }\n",
       "</style>\n",
       "<table border=\"1\" class=\"dataframe\">\n",
       "  <thead>\n",
       "    <tr style=\"text-align: right;\">\n",
       "      <th></th>\n",
       "      <th>0</th>\n",
       "      <th>1</th>\n",
       "      <th>2</th>\n",
       "      <th>3</th>\n",
       "      <th>4</th>\n",
       "    </tr>\n",
       "  </thead>\n",
       "  <tbody>\n",
       "    <tr>\n",
       "      <th>Store</th>\n",
       "      <td>1</td>\n",
       "      <td>2</td>\n",
       "      <td>3</td>\n",
       "      <td>4</td>\n",
       "      <td>5</td>\n",
       "    </tr>\n",
       "    <tr>\n",
       "      <th>StoreType</th>\n",
       "      <td>c</td>\n",
       "      <td>a</td>\n",
       "      <td>a</td>\n",
       "      <td>c</td>\n",
       "      <td>a</td>\n",
       "    </tr>\n",
       "    <tr>\n",
       "      <th>Assortment</th>\n",
       "      <td>a</td>\n",
       "      <td>a</td>\n",
       "      <td>a</td>\n",
       "      <td>c</td>\n",
       "      <td>a</td>\n",
       "    </tr>\n",
       "    <tr>\n",
       "      <th>CompetitionDistance</th>\n",
       "      <td>1270</td>\n",
       "      <td>570</td>\n",
       "      <td>14130</td>\n",
       "      <td>620</td>\n",
       "      <td>29910</td>\n",
       "    </tr>\n",
       "    <tr>\n",
       "      <th>CompetitionOpenSinceMonth</th>\n",
       "      <td>9</td>\n",
       "      <td>11</td>\n",
       "      <td>12</td>\n",
       "      <td>9</td>\n",
       "      <td>4</td>\n",
       "    </tr>\n",
       "    <tr>\n",
       "      <th>CompetitionOpenSinceYear</th>\n",
       "      <td>2008</td>\n",
       "      <td>2007</td>\n",
       "      <td>2006</td>\n",
       "      <td>2009</td>\n",
       "      <td>2015</td>\n",
       "    </tr>\n",
       "    <tr>\n",
       "      <th>Promo2</th>\n",
       "      <td>0</td>\n",
       "      <td>1</td>\n",
       "      <td>1</td>\n",
       "      <td>0</td>\n",
       "      <td>0</td>\n",
       "    </tr>\n",
       "    <tr>\n",
       "      <th>Promo2SinceWeek</th>\n",
       "      <td>NaN</td>\n",
       "      <td>13</td>\n",
       "      <td>14</td>\n",
       "      <td>NaN</td>\n",
       "      <td>NaN</td>\n",
       "    </tr>\n",
       "    <tr>\n",
       "      <th>Promo2SinceYear</th>\n",
       "      <td>NaN</td>\n",
       "      <td>2010</td>\n",
       "      <td>2011</td>\n",
       "      <td>NaN</td>\n",
       "      <td>NaN</td>\n",
       "    </tr>\n",
       "    <tr>\n",
       "      <th>PromoInterval</th>\n",
       "      <td>NaN</td>\n",
       "      <td>Jan,Apr,Jul,Oct</td>\n",
       "      <td>Jan,Apr,Jul,Oct</td>\n",
       "      <td>NaN</td>\n",
       "      <td>NaN</td>\n",
       "    </tr>\n",
       "  </tbody>\n",
       "</table>\n",
       "</div>"
      ],
      "text/plain": [
       "                              0                1                2     3      4\n",
       "Store                         1                2                3     4      5\n",
       "StoreType                     c                a                a     c      a\n",
       "Assortment                    a                a                a     c      a\n",
       "CompetitionDistance        1270              570            14130   620  29910\n",
       "CompetitionOpenSinceMonth     9               11               12     9      4\n",
       "CompetitionOpenSinceYear   2008             2007             2006  2009   2015\n",
       "Promo2                        0                1                1     0      0\n",
       "Promo2SinceWeek             NaN               13               14   NaN    NaN\n",
       "Promo2SinceYear             NaN             2010             2011   NaN    NaN\n",
       "PromoInterval               NaN  Jan,Apr,Jul,Oct  Jan,Apr,Jul,Oct   NaN    NaN"
      ]
     },
     "execution_count": 3,
     "metadata": {},
     "output_type": "execute_result"
    }
   ],
   "source": [
    "store.head().T"
   ]
  },
  {
   "cell_type": "code",
   "execution_count": 4,
   "metadata": {},
   "outputs": [
    {
     "name": "stdout",
     "output_type": "stream",
     "text": [
      "2013-01-01\n",
      "2015-07-31\n"
     ]
    },
    {
     "data": {
      "text/html": [
       "<div>\n",
       "<style scoped>\n",
       "    .dataframe tbody tr th:only-of-type {\n",
       "        vertical-align: middle;\n",
       "    }\n",
       "\n",
       "    .dataframe tbody tr th {\n",
       "        vertical-align: top;\n",
       "    }\n",
       "\n",
       "    .dataframe thead th {\n",
       "        text-align: right;\n",
       "    }\n",
       "</style>\n",
       "<table border=\"1\" class=\"dataframe\">\n",
       "  <thead>\n",
       "    <tr style=\"text-align: right;\">\n",
       "      <th></th>\n",
       "      <th>0</th>\n",
       "      <th>1</th>\n",
       "      <th>2</th>\n",
       "      <th>3</th>\n",
       "      <th>4</th>\n",
       "    </tr>\n",
       "  </thead>\n",
       "  <tbody>\n",
       "    <tr>\n",
       "      <th>Store</th>\n",
       "      <td>1</td>\n",
       "      <td>2</td>\n",
       "      <td>3</td>\n",
       "      <td>4</td>\n",
       "      <td>5</td>\n",
       "    </tr>\n",
       "    <tr>\n",
       "      <th>DayOfWeek</th>\n",
       "      <td>5</td>\n",
       "      <td>5</td>\n",
       "      <td>5</td>\n",
       "      <td>5</td>\n",
       "      <td>5</td>\n",
       "    </tr>\n",
       "    <tr>\n",
       "      <th>Date</th>\n",
       "      <td>2015-07-31</td>\n",
       "      <td>2015-07-31</td>\n",
       "      <td>2015-07-31</td>\n",
       "      <td>2015-07-31</td>\n",
       "      <td>2015-07-31</td>\n",
       "    </tr>\n",
       "    <tr>\n",
       "      <th>Sales</th>\n",
       "      <td>5263</td>\n",
       "      <td>6064</td>\n",
       "      <td>8314</td>\n",
       "      <td>13995</td>\n",
       "      <td>4822</td>\n",
       "    </tr>\n",
       "    <tr>\n",
       "      <th>Customers</th>\n",
       "      <td>555</td>\n",
       "      <td>625</td>\n",
       "      <td>821</td>\n",
       "      <td>1498</td>\n",
       "      <td>559</td>\n",
       "    </tr>\n",
       "    <tr>\n",
       "      <th>Open</th>\n",
       "      <td>1</td>\n",
       "      <td>1</td>\n",
       "      <td>1</td>\n",
       "      <td>1</td>\n",
       "      <td>1</td>\n",
       "    </tr>\n",
       "    <tr>\n",
       "      <th>Promo</th>\n",
       "      <td>1</td>\n",
       "      <td>1</td>\n",
       "      <td>1</td>\n",
       "      <td>1</td>\n",
       "      <td>1</td>\n",
       "    </tr>\n",
       "    <tr>\n",
       "      <th>StateHoliday</th>\n",
       "      <td>0</td>\n",
       "      <td>0</td>\n",
       "      <td>0</td>\n",
       "      <td>0</td>\n",
       "      <td>0</td>\n",
       "    </tr>\n",
       "    <tr>\n",
       "      <th>SchoolHoliday</th>\n",
       "      <td>1</td>\n",
       "      <td>1</td>\n",
       "      <td>1</td>\n",
       "      <td>1</td>\n",
       "      <td>1</td>\n",
       "    </tr>\n",
       "  </tbody>\n",
       "</table>\n",
       "</div>"
      ],
      "text/plain": [
       "                        0           1           2           3           4\n",
       "Store                   1           2           3           4           5\n",
       "DayOfWeek               5           5           5           5           5\n",
       "Date           2015-07-31  2015-07-31  2015-07-31  2015-07-31  2015-07-31\n",
       "Sales                5263        6064        8314       13995        4822\n",
       "Customers             555         625         821        1498         559\n",
       "Open                    1           1           1           1           1\n",
       "Promo                   1           1           1           1           1\n",
       "StateHoliday            0           0           0           0           0\n",
       "SchoolHoliday           1           1           1           1           1"
      ]
     },
     "execution_count": 4,
     "metadata": {},
     "output_type": "execute_result"
    }
   ],
   "source": [
    "print(train['Date'].min())\n",
    "print(train['Date'].max())\n",
    "train.head().T"
   ]
  },
  {
   "cell_type": "code",
   "execution_count": 5,
   "metadata": {},
   "outputs": [
    {
     "data": {
      "image/png": "[encoded data removed]",
      "text/plain": [
       "<Figure size 720x720 with 1 Axes>"
      ]
     },
     "metadata": {
      "needs_background": "light"
     },
     "output_type": "display_data"
    }
   ],
   "source": [
    "grp_df = train.groupby('Date')['Store'].nunique().reset_index()\n",
    "grp_df = grp_df.rename(columns={'Store': 'number_of_stores'})\n",
    "\n",
    "fig, ax = plt.subplots(1, figsize=(10, 10))\n",
    "\n",
    "sns.barplot(x=\"Date\", y=\"number_of_stores\", data=grp_df,\n",
    "                  color=\"salmon\", saturation=.5, ax=ax)\n",
    "ax.tick_params(labelrotation=45)\n",
    "plt.tight_layout()"
   ]
  },
  {
   "cell_type": "markdown",
   "metadata": {},
   "source": [
    "## Tidy up the above figure so we can see the x axis labels\n",
    "\n",
    "So now we can see that there a few stores that we don't have data for a period of time. We'll want to drop those stores"
   ]
  },
  {
   "cell_type": "code",
   "execution_count": 6,
   "metadata": {},
   "outputs": [
    {
     "data": {
      "text/plain": [
       "<matplotlib.axes._subplots.AxesSubplot at 0x22c1a4a4940>"
      ]
     },
     "execution_count": 6,
     "metadata": {},
     "output_type": "execute_result"
    },
    {
     "data": {
      "image/png": "[encoded data removed]",
      "text/plain": [
       "<Figure size 432x288 with 1 Axes>"
      ]
     },
     "metadata": {
      "needs_background": "light"
     },
     "output_type": "display_data"
    }
   ],
   "source": [
    "grp_df = train.groupby('Store')['Date'].nunique().reset_index()\n",
    "grp_df = grp_df.rename(columns={'Date': 'number_of_records'})\n",
    "sns.barplot(x='Store', y='number_of_records', data=grp_df)"
   ]
  },
  {
   "cell_type": "code",
   "execution_count": 7,
   "metadata": {},
   "outputs": [
    {
     "name": "stdout",
     "output_type": "stream",
     "text": [
      "1115\n",
      "942    879828\n",
      "758    136440\n",
      "941       941\n",
      "Name: store_date_records, dtype: int64\n",
      "934\n"
     ]
    }
   ],
   "source": [
    "train['store_date_records'] = train.groupby('Store')['Date'].transform('nunique')\n",
    "print(train['Store'].nunique())\n",
    "print(train['store_date_records'].value_counts())\n",
    "\n",
    "train_subset = train.loc[train['store_date_records'] == train['store_date_records'].max(), :]\n",
    "print(train_subset['Store'].nunique())"
   ]
  },
  {
   "cell_type": "code",
   "execution_count": 8,
   "metadata": {},
   "outputs": [
    {
     "data": {
      "image/png": "[encoded data removed]",
      "text/plain": [
       "<Figure size 432x288 with 1 Axes>"
      ]
     },
     "metadata": {
      "needs_background": "light"
     },
     "output_type": "display_data"
    }
   ],
   "source": [
    "grp_df = train_subset.groupby('Date')['Store'].nunique().reset_index()\n",
    "grp_df = grp_df.rename(columns={'Store': 'number_of_date_entries'})\n",
    "\n",
    "ax = sns.barplot(x=\"Date\", y=\"number_of_date_entries\", data=grp_df,\n",
    "                  color=\"salmon\", saturation=.5)\n",
    "\n",
    "ax.set_xticklabels(ax.get_xticklabels(), rotation=40, ha=\"right\", fontsize=5)\n",
    "plt.tight_layout()\n",
    "plt.show()"
   ]
  },
  {
   "cell_type": "code",
   "execution_count": 9,
   "metadata": {},
   "outputs": [
    {
     "name": "stdout",
     "output_type": "stream",
     "text": [
      "2013-01-01\n",
      "2015-07-31\n"
     ]
    }
   ],
   "source": [
    "print(train_subset['Date'].min())\n",
    "print(train_subset['Date'].max())"
   ]
  },
  {
   "cell_type": "markdown",
   "metadata": {},
   "source": [
    "So every date record that happens before this date will be included in the model build process. Every date after will be incrementaly added to train to replicate real life"
   ]
  },
  {
   "cell_type": "code",
   "execution_count": 10,
   "metadata": {},
   "outputs": [
    {
     "name": "stderr",
     "output_type": "stream",
     "text": [
      "C:\\Users\\evanm\\Anaconda3\\envs\\rm_models\\lib\\site-packages\\ipykernel_launcher.py:1: SettingWithCopyWarning: \n",
      "A value is trying to be set on a copy of a slice from a DataFrame.\n",
      "Try using .loc[row_indexer,col_indexer] = value instead\n",
      "\n",
      "See the caveats in the documentation: http://pandas.pydata.org/pandas-docs/stable/user_guide/indexing.html#returning-a-view-versus-a-copy\n",
      "  \"\"\"Entry point for launching an IPython kernel.\n"
     ]
    }
   ],
   "source": [
    "train_subset['initial_build_set'] = train_subset['Date'] < '2014-12-31' "
   ]
  },
  {
   "cell_type": "code",
   "execution_count": 11,
   "metadata": {},
   "outputs": [
    {
     "data": {
      "text/html": [
       "<div>\n",
       "<style scoped>\n",
       "    .dataframe tbody tr th:only-of-type {\n",
       "        vertical-align: middle;\n",
       "    }\n",
       "\n",
       "    .dataframe tbody tr th {\n",
       "        vertical-align: top;\n",
       "    }\n",
       "\n",
       "    .dataframe thead th {\n",
       "        text-align: right;\n",
       "    }\n",
       "</style>\n",
       "<table border=\"1\" class=\"dataframe\">\n",
       "  <thead>\n",
       "    <tr style=\"text-align: right;\">\n",
       "      <th></th>\n",
       "      <th>0</th>\n",
       "      <th>1</th>\n",
       "      <th>2</th>\n",
       "      <th>3</th>\n",
       "      <th>4</th>\n",
       "    </tr>\n",
       "  </thead>\n",
       "  <tbody>\n",
       "    <tr>\n",
       "      <th>Store</th>\n",
       "      <td>1</td>\n",
       "      <td>2</td>\n",
       "      <td>3</td>\n",
       "      <td>4</td>\n",
       "      <td>5</td>\n",
       "    </tr>\n",
       "    <tr>\n",
       "      <th>DayOfWeek</th>\n",
       "      <td>5</td>\n",
       "      <td>5</td>\n",
       "      <td>5</td>\n",
       "      <td>5</td>\n",
       "      <td>5</td>\n",
       "    </tr>\n",
       "    <tr>\n",
       "      <th>Date</th>\n",
       "      <td>2015-07-31</td>\n",
       "      <td>2015-07-31</td>\n",
       "      <td>2015-07-31</td>\n",
       "      <td>2015-07-31</td>\n",
       "      <td>2015-07-31</td>\n",
       "    </tr>\n",
       "    <tr>\n",
       "      <th>Sales</th>\n",
       "      <td>5263</td>\n",
       "      <td>6064</td>\n",
       "      <td>8314</td>\n",
       "      <td>13995</td>\n",
       "      <td>4822</td>\n",
       "    </tr>\n",
       "    <tr>\n",
       "      <th>Customers</th>\n",
       "      <td>555</td>\n",
       "      <td>625</td>\n",
       "      <td>821</td>\n",
       "      <td>1498</td>\n",
       "      <td>559</td>\n",
       "    </tr>\n",
       "    <tr>\n",
       "      <th>Open</th>\n",
       "      <td>1</td>\n",
       "      <td>1</td>\n",
       "      <td>1</td>\n",
       "      <td>1</td>\n",
       "      <td>1</td>\n",
       "    </tr>\n",
       "    <tr>\n",
       "      <th>Promo</th>\n",
       "      <td>1</td>\n",
       "      <td>1</td>\n",
       "      <td>1</td>\n",
       "      <td>1</td>\n",
       "      <td>1</td>\n",
       "    </tr>\n",
       "    <tr>\n",
       "      <th>StateHoliday</th>\n",
       "      <td>0</td>\n",
       "      <td>0</td>\n",
       "      <td>0</td>\n",
       "      <td>0</td>\n",
       "      <td>0</td>\n",
       "    </tr>\n",
       "    <tr>\n",
       "      <th>SchoolHoliday</th>\n",
       "      <td>1</td>\n",
       "      <td>1</td>\n",
       "      <td>1</td>\n",
       "      <td>1</td>\n",
       "      <td>1</td>\n",
       "    </tr>\n",
       "    <tr>\n",
       "      <th>store_date_records</th>\n",
       "      <td>942</td>\n",
       "      <td>942</td>\n",
       "      <td>942</td>\n",
       "      <td>942</td>\n",
       "      <td>942</td>\n",
       "    </tr>\n",
       "    <tr>\n",
       "      <th>initial_build_set</th>\n",
       "      <td>False</td>\n",
       "      <td>False</td>\n",
       "      <td>False</td>\n",
       "      <td>False</td>\n",
       "      <td>False</td>\n",
       "    </tr>\n",
       "  </tbody>\n",
       "</table>\n",
       "</div>"
      ],
      "text/plain": [
       "                             0           1           2           3           4\n",
       "Store                        1           2           3           4           5\n",
       "DayOfWeek                    5           5           5           5           5\n",
       "Date                2015-07-31  2015-07-31  2015-07-31  2015-07-31  2015-07-31\n",
       "Sales                     5263        6064        8314       13995        4822\n",
       "Customers                  555         625         821        1498         559\n",
       "Open                         1           1           1           1           1\n",
       "Promo                        1           1           1           1           1\n",
       "StateHoliday                 0           0           0           0           0\n",
       "SchoolHoliday                1           1           1           1           1\n",
       "store_date_records         942         942         942         942         942\n",
       "initial_build_set        False       False       False       False       False"
      ]
     },
     "execution_count": 11,
     "metadata": {},
     "output_type": "execute_result"
    }
   ],
   "source": [
    "train_subset.head().T"
   ]
  },
  {
   "cell_type": "code",
   "execution_count": 12,
   "metadata": {},
   "outputs": [
    {
     "data": {
      "text/html": [
       "<div>\n",
       "<style scoped>\n",
       "    .dataframe tbody tr th:only-of-type {\n",
       "        vertical-align: middle;\n",
       "    }\n",
       "\n",
       "    .dataframe tbody tr th {\n",
       "        vertical-align: top;\n",
       "    }\n",
       "\n",
       "    .dataframe thead th {\n",
       "        text-align: right;\n",
       "    }\n",
       "</style>\n",
       "<table border=\"1\" class=\"dataframe\">\n",
       "  <thead>\n",
       "    <tr style=\"text-align: right;\">\n",
       "      <th></th>\n",
       "      <th>0</th>\n",
       "      <th>1</th>\n",
       "      <th>2</th>\n",
       "      <th>3</th>\n",
       "      <th>4</th>\n",
       "    </tr>\n",
       "  </thead>\n",
       "  <tbody>\n",
       "    <tr>\n",
       "      <th>Store</th>\n",
       "      <td>1</td>\n",
       "      <td>1</td>\n",
       "      <td>1</td>\n",
       "      <td>1</td>\n",
       "      <td>1</td>\n",
       "    </tr>\n",
       "    <tr>\n",
       "      <th>DayOfWeek</th>\n",
       "      <td>5</td>\n",
       "      <td>4</td>\n",
       "      <td>3</td>\n",
       "      <td>2</td>\n",
       "      <td>1</td>\n",
       "    </tr>\n",
       "    <tr>\n",
       "      <th>Date</th>\n",
       "      <td>2015-07-31</td>\n",
       "      <td>2015-07-30</td>\n",
       "      <td>2015-07-29</td>\n",
       "      <td>2015-07-28</td>\n",
       "      <td>2015-07-27</td>\n",
       "    </tr>\n",
       "    <tr>\n",
       "      <th>Sales</th>\n",
       "      <td>5263</td>\n",
       "      <td>5020</td>\n",
       "      <td>4782</td>\n",
       "      <td>5011</td>\n",
       "      <td>6102</td>\n",
       "    </tr>\n",
       "    <tr>\n",
       "      <th>Customers</th>\n",
       "      <td>555</td>\n",
       "      <td>546</td>\n",
       "      <td>523</td>\n",
       "      <td>560</td>\n",
       "      <td>612</td>\n",
       "    </tr>\n",
       "    <tr>\n",
       "      <th>Open</th>\n",
       "      <td>1</td>\n",
       "      <td>1</td>\n",
       "      <td>1</td>\n",
       "      <td>1</td>\n",
       "      <td>1</td>\n",
       "    </tr>\n",
       "    <tr>\n",
       "      <th>Promo</th>\n",
       "      <td>1</td>\n",
       "      <td>1</td>\n",
       "      <td>1</td>\n",
       "      <td>1</td>\n",
       "      <td>1</td>\n",
       "    </tr>\n",
       "    <tr>\n",
       "      <th>StateHoliday</th>\n",
       "      <td>0</td>\n",
       "      <td>0</td>\n",
       "      <td>0</td>\n",
       "      <td>0</td>\n",
       "      <td>0</td>\n",
       "    </tr>\n",
       "    <tr>\n",
       "      <th>SchoolHoliday</th>\n",
       "      <td>1</td>\n",
       "      <td>1</td>\n",
       "      <td>1</td>\n",
       "      <td>1</td>\n",
       "      <td>1</td>\n",
       "    </tr>\n",
       "    <tr>\n",
       "      <th>store_date_records</th>\n",
       "      <td>942</td>\n",
       "      <td>942</td>\n",
       "      <td>942</td>\n",
       "      <td>942</td>\n",
       "      <td>942</td>\n",
       "    </tr>\n",
       "    <tr>\n",
       "      <th>initial_build_set</th>\n",
       "      <td>False</td>\n",
       "      <td>False</td>\n",
       "      <td>False</td>\n",
       "      <td>False</td>\n",
       "      <td>False</td>\n",
       "    </tr>\n",
       "    <tr>\n",
       "      <th>StoreType</th>\n",
       "      <td>c</td>\n",
       "      <td>c</td>\n",
       "      <td>c</td>\n",
       "      <td>c</td>\n",
       "      <td>c</td>\n",
       "    </tr>\n",
       "    <tr>\n",
       "      <th>Assortment</th>\n",
       "      <td>a</td>\n",
       "      <td>a</td>\n",
       "      <td>a</td>\n",
       "      <td>a</td>\n",
       "      <td>a</td>\n",
       "    </tr>\n",
       "    <tr>\n",
       "      <th>CompetitionDistance</th>\n",
       "      <td>1270</td>\n",
       "      <td>1270</td>\n",
       "      <td>1270</td>\n",
       "      <td>1270</td>\n",
       "      <td>1270</td>\n",
       "    </tr>\n",
       "    <tr>\n",
       "      <th>CompetitionOpenSinceMonth</th>\n",
       "      <td>9</td>\n",
       "      <td>9</td>\n",
       "      <td>9</td>\n",
       "      <td>9</td>\n",
       "      <td>9</td>\n",
       "    </tr>\n",
       "    <tr>\n",
       "      <th>CompetitionOpenSinceYear</th>\n",
       "      <td>2008</td>\n",
       "      <td>2008</td>\n",
       "      <td>2008</td>\n",
       "      <td>2008</td>\n",
       "      <td>2008</td>\n",
       "    </tr>\n",
       "    <tr>\n",
       "      <th>Promo2</th>\n",
       "      <td>0</td>\n",
       "      <td>0</td>\n",
       "      <td>0</td>\n",
       "      <td>0</td>\n",
       "      <td>0</td>\n",
       "    </tr>\n",
       "    <tr>\n",
       "      <th>Promo2SinceWeek</th>\n",
       "      <td>NaN</td>\n",
       "      <td>NaN</td>\n",
       "      <td>NaN</td>\n",
       "      <td>NaN</td>\n",
       "      <td>NaN</td>\n",
       "    </tr>\n",
       "    <tr>\n",
       "      <th>Promo2SinceYear</th>\n",
       "      <td>NaN</td>\n",
       "      <td>NaN</td>\n",
       "      <td>NaN</td>\n",
       "      <td>NaN</td>\n",
       "      <td>NaN</td>\n",
       "    </tr>\n",
       "    <tr>\n",
       "      <th>PromoInterval</th>\n",
       "      <td>NaN</td>\n",
       "      <td>NaN</td>\n",
       "      <td>NaN</td>\n",
       "      <td>NaN</td>\n",
       "      <td>NaN</td>\n",
       "    </tr>\n",
       "  </tbody>\n",
       "</table>\n",
       "</div>"
      ],
      "text/plain": [
       "                                    0           1           2           3  \\\n",
       "Store                               1           1           1           1   \n",
       "DayOfWeek                           5           4           3           2   \n",
       "Date                       2015-07-31  2015-07-30  2015-07-29  2015-07-28   \n",
       "Sales                            5263        5020        4782        5011   \n",
       "Customers                         555         546         523         560   \n",
       "Open                                1           1           1           1   \n",
       "Promo                               1           1           1           1   \n",
       "StateHoliday                        0           0           0           0   \n",
       "SchoolHoliday                       1           1           1           1   \n",
       "store_date_records                942         942         942         942   \n",
       "initial_build_set               False       False       False       False   \n",
       "StoreType                           c           c           c           c   \n",
       "Assortment                          a           a           a           a   \n",
       "CompetitionDistance              1270        1270        1270        1270   \n",
       "CompetitionOpenSinceMonth           9           9           9           9   \n",
       "CompetitionOpenSinceYear         2008        2008        2008        2008   \n",
       "Promo2                              0           0           0           0   \n",
       "Promo2SinceWeek                   NaN         NaN         NaN         NaN   \n",
       "Promo2SinceYear                   NaN         NaN         NaN         NaN   \n",
       "PromoInterval                     NaN         NaN         NaN         NaN   \n",
       "\n",
       "                                    4  \n",
       "Store                               1  \n",
       "DayOfWeek                           1  \n",
       "Date                       2015-07-27  \n",
       "Sales                            6102  \n",
       "Customers                         612  \n",
       "Open                                1  \n",
       "Promo                               1  \n",
       "StateHoliday                        0  \n",
       "SchoolHoliday                       1  \n",
       "store_date_records                942  \n",
       "initial_build_set               False  \n",
       "StoreType                           c  \n",
       "Assortment                          a  \n",
       "CompetitionDistance              1270  \n",
       "CompetitionOpenSinceMonth           9  \n",
       "CompetitionOpenSinceYear         2008  \n",
       "Promo2                              0  \n",
       "Promo2SinceWeek                   NaN  \n",
       "Promo2SinceYear                   NaN  \n",
       "PromoInterval                     NaN  "
      ]
     },
     "execution_count": 12,
     "metadata": {},
     "output_type": "execute_result"
    }
   ],
   "source": [
    "model_superset = train_subset.merge(store, on='Store')\n",
    "model_superset.head().T"
   ]
  },
  {
   "cell_type": "code",
   "execution_count": 13,
   "metadata": {},
   "outputs": [],
   "source": [
    "model_set = model_superset.loc[model_superset['initial_build_set'] == True, :]\n",
    "model_deploy_set = model_superset.loc[model_superset['initial_build_set'] == False, :]"
   ]
  },
  {
   "cell_type": "markdown",
   "metadata": {},
   "source": [
    "## Setting up train/test\n",
    "\n",
    "We need to think about data we'll have at prediction time\n",
    "\n",
    "- Can't include customers as we wouldn't know that ahead of time\n",
    "- Will need to assume that we know of Promos atleast the max prediction window ahead of time\n",
    "- I'm just gonna deal with the easy to work with variables"
   ]
  },
  {
   "cell_type": "markdown",
   "metadata": {},
   "source": [
    "https://machinelearningmastery.com/backtest-machine-learning-models-time-series-forecasting/\n",
    "\n",
    "from pandas import Series\n",
    "\n",
    "from matplotlib import pyplot\n",
    "series = Series.from_csv('sunspots.csv', header=0)\n",
    "X = series.values\n",
    "splits = TimeSeriesSplit(n_splits=3)\n",
    "pyplot.figure(1)\n",
    "index = 1\n",
    "for train_index, test_index in splits.split(X):\n",
    "    train = X[train_index]\n",
    "    test = X[test_index]\n",
    "    print('Observations: %d' % (len(train) + len(test)))\n",
    "    print('Training Observations: %d' % (len(train)))\n",
    "    print('Testing Observations: %d' % (len(test)))\n",
    "    pyplot.subplot(310 + index)\n",
    "    pyplot.plot(train)\n",
    "    pyplot.plot([None for i in train] + [x for x in test])\n",
    "    index += 1\n",
    "pyplot.show()\n",
    "\n",
    "Want to visualize which days are being put in to train/test"
   ]
  },
  {
   "cell_type": "markdown",
   "metadata": {},
   "source": [
    "## There might be time overhang with one or two stores being put into the wrong fold but until groupwise time splits are avaiable there ain't much to do"
   ]
  },
  {
   "cell_type": "code",
   "execution_count": 14,
   "metadata": {
    "scrolled": false
   },
   "outputs": [
    {
     "name": "stdout",
     "output_type": "stream",
     "text": [
      "TRAIN: [    0     1     2 ... 61903 61904 61905] TEST: [ 61906  61907  61908 ... 123801 123802 123803]\n",
      "First date in train = 2013-01-01, last date in train = 2013-03-08\n",
      "First date in test = 2013-03-08, last date in test = 2013-05-13\n"
     ]
    },
    {
     "name": "stderr",
     "output_type": "stream",
     "text": [
      "C:\\Users\\evanm\\Anaconda3\\envs\\rm_models\\lib\\site-packages\\sklearn\\preprocessing\\_discretization.py:193: UserWarning: Bins whose width are too small (i.e., <= 1e-8) in feature 1 are removed. Consider decreasing the number of bins.\n",
      "  'decreasing the number of bins.' % jj)\n"
     ]
    },
    {
     "name": "stdout",
     "output_type": "stream",
     "text": [
      "TRAIN: [     0      1      2 ... 123801 123802 123803] TEST: [123804 123805 123806 ... 185699 185700 185701]\n",
      "First date in train = 2013-01-01, last date in train = 2013-05-13\n",
      "First date in test = 2013-05-13, last date in test = 2013-07-18\n"
     ]
    },
    {
     "name": "stderr",
     "output_type": "stream",
     "text": [
      "C:\\Users\\evanm\\Anaconda3\\envs\\rm_models\\lib\\site-packages\\sklearn\\preprocessing\\_discretization.py:193: UserWarning: Bins whose width are too small (i.e., <= 1e-8) in feature 1 are removed. Consider decreasing the number of bins.\n",
      "  'decreasing the number of bins.' % jj)\n"
     ]
    },
    {
     "name": "stdout",
     "output_type": "stream",
     "text": [
      "TRAIN: [     0      1      2 ... 185699 185700 185701] TEST: [185702 185703 185704 ... 247597 247598 247599]\n",
      "First date in train = 2013-01-01, last date in train = 2013-07-18\n",
      "First date in test = 2013-07-18, last date in test = 2013-09-23\n"
     ]
    },
    {
     "name": "stderr",
     "output_type": "stream",
     "text": [
      "C:\\Users\\evanm\\Anaconda3\\envs\\rm_models\\lib\\site-packages\\sklearn\\preprocessing\\_discretization.py:193: UserWarning: Bins whose width are too small (i.e., <= 1e-8) in feature 1 are removed. Consider decreasing the number of bins.\n",
      "  'decreasing the number of bins.' % jj)\n"
     ]
    },
    {
     "name": "stdout",
     "output_type": "stream",
     "text": [
      "TRAIN: [     0      1      2 ... 247597 247598 247599] TEST: [247600 247601 247602 ... 309495 309496 309497]\n",
      "First date in train = 2013-01-01, last date in train = 2013-09-23\n",
      "First date in test = 2013-09-23, last date in test = 2013-11-28\n"
     ]
    },
    {
     "name": "stderr",
     "output_type": "stream",
     "text": [
      "C:\\Users\\evanm\\Anaconda3\\envs\\rm_models\\lib\\site-packages\\sklearn\\preprocessing\\_discretization.py:193: UserWarning: Bins whose width are too small (i.e., <= 1e-8) in feature 1 are removed. Consider decreasing the number of bins.\n",
      "  'decreasing the number of bins.' % jj)\n"
     ]
    },
    {
     "name": "stdout",
     "output_type": "stream",
     "text": [
      "TRAIN: [     0      1      2 ... 309495 309496 309497] TEST: [309498 309499 309500 ... 371393 371394 371395]\n",
      "First date in train = 2013-01-01, last date in train = 2013-11-28\n",
      "First date in test = 2013-11-28, last date in test = 2014-02-02\n"
     ]
    },
    {
     "name": "stderr",
     "output_type": "stream",
     "text": [
      "C:\\Users\\evanm\\Anaconda3\\envs\\rm_models\\lib\\site-packages\\sklearn\\preprocessing\\_discretization.py:193: UserWarning: Bins whose width are too small (i.e., <= 1e-8) in feature 1 are removed. Consider decreasing the number of bins.\n",
      "  'decreasing the number of bins.' % jj)\n"
     ]
    },
    {
     "name": "stdout",
     "output_type": "stream",
     "text": [
      "TRAIN: [     0      1      2 ... 371393 371394 371395] TEST: [371396 371397 371398 ... 433291 433292 433293]\n",
      "First date in train = 2013-01-01, last date in train = 2014-02-02\n",
      "First date in test = 2014-02-02, last date in test = 2014-04-09\n"
     ]
    },
    {
     "name": "stderr",
     "output_type": "stream",
     "text": [
      "C:\\Users\\evanm\\Anaconda3\\envs\\rm_models\\lib\\site-packages\\sklearn\\preprocessing\\_discretization.py:193: UserWarning: Bins whose width are too small (i.e., <= 1e-8) in feature 1 are removed. Consider decreasing the number of bins.\n",
      "  'decreasing the number of bins.' % jj)\n"
     ]
    },
    {
     "name": "stdout",
     "output_type": "stream",
     "text": [
      "TRAIN: [     0      1      2 ... 433291 433292 433293] TEST: [433294 433295 433296 ... 495189 495190 495191]\n",
      "First date in train = 2013-01-01, last date in train = 2014-04-09\n",
      "First date in test = 2014-04-09, last date in test = 2014-06-15\n"
     ]
    },
    {
     "name": "stderr",
     "output_type": "stream",
     "text": [
      "C:\\Users\\evanm\\Anaconda3\\envs\\rm_models\\lib\\site-packages\\sklearn\\preprocessing\\_discretization.py:193: UserWarning: Bins whose width are too small (i.e., <= 1e-8) in feature 1 are removed. Consider decreasing the number of bins.\n",
      "  'decreasing the number of bins.' % jj)\n"
     ]
    },
    {
     "name": "stdout",
     "output_type": "stream",
     "text": [
      "TRAIN: [     0      1      2 ... 495189 495190 495191] TEST: [495192 495193 495194 ... 557087 557088 557089]\n",
      "First date in train = 2013-01-01, last date in train = 2014-06-15\n",
      "First date in test = 2014-06-15, last date in test = 2014-08-20\n"
     ]
    },
    {
     "name": "stderr",
     "output_type": "stream",
     "text": [
      "C:\\Users\\evanm\\Anaconda3\\envs\\rm_models\\lib\\site-packages\\sklearn\\preprocessing\\_discretization.py:193: UserWarning: Bins whose width are too small (i.e., <= 1e-8) in feature 1 are removed. Consider decreasing the number of bins.\n",
      "  'decreasing the number of bins.' % jj)\n"
     ]
    },
    {
     "name": "stdout",
     "output_type": "stream",
     "text": [
      "TRAIN: [     0      1      2 ... 557087 557088 557089] TEST: [557090 557091 557092 ... 618985 618986 618987]\n",
      "First date in train = 2013-01-01, last date in train = 2014-08-20\n",
      "First date in test = 2014-08-20, last date in test = 2014-10-25\n"
     ]
    },
    {
     "name": "stderr",
     "output_type": "stream",
     "text": [
      "C:\\Users\\evanm\\Anaconda3\\envs\\rm_models\\lib\\site-packages\\sklearn\\preprocessing\\_discretization.py:193: UserWarning: Bins whose width are too small (i.e., <= 1e-8) in feature 1 are removed. Consider decreasing the number of bins.\n",
      "  'decreasing the number of bins.' % jj)\n"
     ]
    },
    {
     "name": "stdout",
     "output_type": "stream",
     "text": [
      "TRAIN: [     0      1      2 ... 618985 618986 618987] TEST: [618988 618989 618990 ... 680883 680884 680885]\n",
      "First date in train = 2013-01-01, last date in train = 2014-10-25\n",
      "First date in test = 2014-10-25, last date in test = 2014-12-30\n"
     ]
    },
    {
     "name": "stderr",
     "output_type": "stream",
     "text": [
      "C:\\Users\\evanm\\Anaconda3\\envs\\rm_models\\lib\\site-packages\\sklearn\\preprocessing\\_discretization.py:193: UserWarning: Bins whose width are too small (i.e., <= 1e-8) in feature 1 are removed. Consider decreasing the number of bins.\n",
      "  'decreasing the number of bins.' % jj)\n"
     ]
    }
   ],
   "source": [
    "model_set = model_set.sort_values('Date', ascending=True)\n",
    "\n",
    "modelling_cols = ['DayOfWeek', \n",
    "                  'Open', \n",
    "                  'Promo', \n",
    "                  'StoreType',\n",
    "                  'Assortment',\n",
    "                  'CompetitionDistance',\n",
    "                  'CompetitionOpenSinceMonth'\n",
    "                 ]\n",
    "\n",
    "y = model_set['Sales']\n",
    "X = model_set[modelling_cols]\n",
    "\n",
    "cats_vars = ['StoreType', 'Assortment']\n",
    "categorical_transformer = Pipeline(steps=[\n",
    "    ('imputer', SimpleImputer(strategy='constant', fill_value='missing')),\n",
    "    ('onehot', OneHotEncoder(handle_unknown='ignore'))])\n",
    "\n",
    "binary_vars = ['Open', 'Promo']\n",
    "numeric_cols = ['CompetitionDistance', 'CompetitionOpenSinceMonth']\n",
    "\n",
    "numeric_transformer = Pipeline(steps=[\n",
    "    ('imputer', SimpleImputer(strategy='constant', fill_value=0)),\n",
    "    ('bins', KBinsDiscretizer(n_bins=5))\n",
    "    \n",
    "])\n",
    "\n",
    "preprocessor = ColumnTransformer(\n",
    "    transformers=[\n",
    "        ('num', numeric_transformer, numeric_cols),\n",
    "        ('cat', categorical_transformer, cats_vars)],\n",
    "    remainder='passthrough',\n",
    "    sparse_threshold=0)\n",
    "        \n",
    "clf = Pipeline(steps=[('preprocessor', preprocessor),\n",
    "                      ('reg', HistGradientBoostingRegressor())])\n",
    "\n",
    "tscv = TimeSeriesSplit(n_splits=10)\n",
    "dates = model_set['Date']\n",
    "\n",
    "for train_index, test_index in tscv.split(X):\n",
    "    \n",
    "    print(\"TRAIN:\", train_index, \"TEST:\", test_index)\n",
    "    X_train, X_test = X.iloc[train_index], X.iloc[test_index]\n",
    "    y_train, y_test = y.iloc[train_index], y.iloc[test_index]\n",
    "    \n",
    "    dates_train = dates.iloc[train_index]\n",
    "    dates_test = dates.iloc[test_index]\n",
    "    print(F\"First date in train = {dates_train.min()}, last date in train = {dates_train.max()}\")\n",
    "    print(F\"First date in test = {dates_test.min()}, last date in test = {dates_test.max()}\")\n",
    "    \n",
    "    train_min  = dates_train.min().replace('-', '_')\n",
    "    train_max  = dates_train.max().replace('-', '_')\n",
    "    test_min  = dates_test.min().replace('-', '_')\n",
    "    test_max  = dates_test.max().replace('-', '_')\n",
    "    \n",
    "    clf.fit(X_train, y_train)\n",
    "        \n",
    "    train = pd.concat([X_train, y_train, dates_train], axis=1)\n",
    "    test = pd.concat([X_test, y_test, dates_test], axis=1)\n",
    "    \n",
    "    joblib.dump(clf, F'../models/{train_min}_{train_max}_pipe.pkl')\n",
    "    train.to_csv(F'../models/{train_min}_{train_max}_train.csv', index=False)\n",
    "    test.to_csv(F'../models/{test_min}_{test_max}_test.csv', index=False)"
   ]
  },
  {
   "cell_type": "markdown",
   "metadata": {},
   "source": [
    "## Which of these models are the best at predicting on the holdout set?\n",
    "\n",
    "More data might not make the best models.."
   ]
  },
  {
   "cell_type": "code",
   "execution_count": 15,
   "metadata": {},
   "outputs": [
    {
     "name": "stdout",
     "output_type": "stream",
     "text": [
      "../models\\2013_01_01_2013_03_08_pipe.pkl\n",
      "R2 score on holdout = 0.6248437068709443\n",
      "MSE score on holdout = 5642142.652896032\n",
      "MAE score on holdout = 1563.9214007192468\n",
      "Max error on holdout = 25952.83378693211\n",
      "../models\\2013_01_01_2013_05_02_pipe.pkl\n",
      "R2 score on holdout = 0.6684582566258468\n",
      "MSE score on holdout = 4986204.005548487\n",
      "MAE score on holdout = 1482.908117428459\n",
      "Max error on holdout = 25660.98400267996\n",
      "../models\\2013_01_01_2013_05_13_pipe.pkl\n",
      "R2 score on holdout = 0.6376173713543496\n",
      "MSE score on holdout = 5450033.821095598\n",
      "MAE score on holdout = 1542.6653163543378\n",
      "Max error on holdout = 25929.359964261675\n",
      "../models\\2013_01_01_2013_07_18_pipe.pkl\n",
      "R2 score on holdout = 0.6430530883847436\n",
      "MSE score on holdout = 5368283.650652078\n",
      "MAE score on holdout = 1531.3702538214836\n",
      "Max error on holdout = 25705.505781845197\n",
      "../models\\2013_01_01_2013_08_31_pipe.pkl\n",
      "R2 score on holdout = 0.6787692796998908\n",
      "MSE score on holdout = 4831131.935196609\n",
      "MAE score on holdout = 1463.6639805689133\n",
      "Max error on holdout = 25695.972977332098\n",
      "../models\\2013_01_01_2013_09_23_pipe.pkl\n",
      "R2 score on holdout = 0.6483504403691212\n",
      "MSE score on holdout = 5288614.413787701\n",
      "MAE score on holdout = 1521.2080351814748\n",
      "Max error on holdout = 25868.500994038783\n",
      "../models\\2013_01_01_2013_11_28_pipe.pkl\n",
      "R2 score on holdout = 0.6488347534620127\n",
      "MSE score on holdout = 5281330.61338556\n",
      "MAE score on holdout = 1519.9819537630997\n",
      "Max error on holdout = 25759.065067486878\n",
      "../models\\2013_01_01_2013_12_31_pipe.pkl\n",
      "R2 score on holdout = 0.6845896642255496\n",
      "MSE score on holdout = 4743596.578893313\n",
      "MAE score on holdout = 1462.898720213085\n",
      "Max error on holdout = 25411.711522181733\n",
      "../models\\2013_01_01_2014_02_02_pipe.pkl\n",
      "R2 score on holdout = 0.6550573270292688\n",
      "MSE score on holdout = 5187746.556880019\n",
      "MAE score on holdout = 1518.4990528095582\n",
      "Max error on holdout = 25532.506621279645\n",
      "../models\\2013_01_01_2014_04_09_pipe.pkl\n",
      "R2 score on holdout = 0.6562852878230334\n",
      "MSE score on holdout = 5169278.707353101\n",
      "MAE score on holdout = 1514.1771020624985\n",
      "Max error on holdout = 25531.517531082474\n",
      "../models\\2013_01_01_2014_05_01_pipe.pkl\n",
      "R2 score on holdout = 0.6856959115110765\n",
      "MSE score on holdout = 4726959.233049366\n",
      "MAE score on holdout = 1455.5189174658574\n",
      "Max error on holdout = 25316.44730463145\n",
      "../models\\2013_01_01_2014_06_15_pipe.pkl\n",
      "R2 score on holdout = 0.6574365216548979\n",
      "MSE score on holdout = 5151964.78879387\n",
      "MAE score on holdout = 1516.2831856041087\n",
      "Max error on holdout = 25474.07087847664\n",
      "../models\\2013_01_01_2014_08_20_pipe.pkl\n",
      "R2 score on holdout = 0.658313034935402\n",
      "MSE score on holdout = 5138782.515015348\n",
      "MAE score on holdout = 1512.8690163603355\n",
      "Max error on holdout = 25522.086988852763\n",
      "../models\\2013_01_01_2014_08_31_pipe.pkl\n",
      "R2 score on holdout = 0.6872845851113744\n",
      "MSE score on holdout = 4703066.462900133\n",
      "MAE score on holdout = 1454.1746187111946\n",
      "Max error on holdout = 25455.117837769198\n",
      "../models\\2013_01_01_2014_10_25_pipe.pkl\n",
      "R2 score on holdout = 0.658572482797147\n",
      "MSE score on holdout = 5134880.563018905\n",
      "MAE score on holdout = 1510.404603414433\n",
      "Max error on holdout = 25688.009497031442\n"
     ]
    }
   ],
   "source": [
    "from glob import glob\n",
    "\n",
    "models = glob('../models/*.pkl')\n",
    "y_holdout = model_deploy_set['Sales']\n",
    "X_holdout = model_deploy_set[modelling_cols]\n",
    "\n",
    "results = []\n",
    "\n",
    "for model in models:\n",
    "    \n",
    "    print(model)\n",
    "    \n",
    "    pipe = joblib.load(model)\n",
    "    y_pred = pipe.predict(X_holdout)\n",
    "    \n",
    "    r2 = r2_score(y_holdout, y_pred)\n",
    "    mse = mean_squared_error(y_holdout, y_pred)\n",
    "    mae = mean_absolute_error(y_holdout, y_pred)\n",
    "    me = max_error(y_holdout, y_pred)\n",
    "    \n",
    "    print(F\"R2 score on holdout = {r2}\")\n",
    "    print(F\"MSE score on holdout = {mse}\")\n",
    "    print(F\"MAE score on holdout = {mae}\")\n",
    "    print(F\"Max error on holdout = {me}\")\n",
    "    \n",
    "    d = {\n",
    "        'model': model.split('\\\\')[1],\n",
    "        'r2_score': r2,\n",
    "        'mse': mse,\n",
    "        'mae': mae,\n",
    "        'max_error': me\n",
    "    }\n",
    "                             \n",
    "    results.append(d)\n",
    "    \n",
    "results_df = pd.DataFrame(results)\n",
    "results_df.to_csv('../data/model_runs.csv', index=False)"
   ]
  },
  {
   "cell_type": "code",
   "execution_count": 16,
   "metadata": {},
   "outputs": [
    {
     "data": {
      "image/png": "[encoded data removed]",
      "text/plain": [
       "<Figure size 1080x1080 with 4 Axes>"
      ]
     },
     "metadata": {
      "needs_background": "light"
     },
     "output_type": "display_data"
    }
   ],
   "source": [
    "# results_df.sort_values('r2_score', ascending=False)\n",
    "\n",
    "fig, ax = plt.subplots(2, 2, sharey=True, figsize=(15,15))\n",
    "\n",
    "values = np.array(results_df['r2_score'])   \n",
    "clrs = ['grey' if (x < max(values)) else 'red' for x in values ]\n",
    "sns.barplot(y='model', x='r2_score', data=results_df, palette=clrs, ax=ax[0, 0])\n",
    "\n",
    "values = np.array(results_df['mse'])   \n",
    "clrs = ['grey' if (x > min(values)) else 'red' for x in values ]\n",
    "sns.barplot(y='model', x='mse', data=results_df, palette=clrs, ax=ax[0, 1])\n",
    "\n",
    "values = np.array(results_df['mae'])   \n",
    "clrs = ['grey' if (x > min(values)) else 'red' for x in values ]\n",
    "sns.barplot(y='model', x='mae', data=results_df, palette=clrs, ax=ax[1, 0])\n",
    "\n",
    "values = np.array(results_df['max_error'])   \n",
    "clrs = ['grey' if (x > min(values)) else 'red' for x in values ]\n",
    "sns.barplot(y='model', x='max_error', data=results_df, palette=clrs, ax=ax[1, 1])\n",
    "\n",
    "plt.tight_layout()\n",
    "fig.savefig('../graphics/model_period_eval.png', dpi=fig.dpi)"
   ]
  },
  {
   "cell_type": "markdown",
   "metadata": {},
   "source": [
    "2013-01-01 -> 2014-10-25 seems to be very good. Maybe the last model has the least test data and is getting held back because the test data has changed?"
   ]
  },
  {
   "cell_type": "markdown",
   "metadata": {},
   "source": [
    "# How about we build a model for train/test but ensure that the train test only has a year worth of data?\n",
    "\n",
    "So take the last year of the train split and subtract 1 year from it. Maybe give the option to go from 3 months to 12 months"
   ]
  },
  {
   "cell_type": "code",
   "execution_count": null,
   "metadata": {},
   "outputs": [],
   "source": []
  }
 ],
 "metadata": {
  "kernelspec": {
   "display_name": "Python (rm_models)",
   "language": "python",
   "name": "rm_models"
  },
  "language_info": {
   "codemirror_mode": {
    "name": "ipython",
    "version": 3
   },
   "file_extension": ".py",
   "mimetype": "text/x-python",
   "name": "python",
   "nbconvert_exporter": "python",
   "pygments_lexer": "ipython3",
   "version": "3.6.8"
  }
 },
 "nbformat": 4,
 "nbformat_minor": 2
}
